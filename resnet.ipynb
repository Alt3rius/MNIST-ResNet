{
 "nbformat": 4,
 "nbformat_minor": 2,
 "metadata": {
  "language_info": {
   "name": "python",
   "codemirror_mode": {
    "name": "ipython",
    "version": 3
   }
  },
  "orig_nbformat": 2,
  "file_extension": ".py",
  "mimetype": "text/x-python",
  "name": "python",
  "npconvert_exporter": "python",
  "pygments_lexer": "ipython3",
  "version": 3
 },
 "cells": [
  {
   "cell_type": "code",
   "execution_count": 1,
   "metadata": {},
   "outputs": [],
   "source": [
    "import tensorflow as tf\n",
    "import pandas as pd\n",
    "import numpy as np\n"
   ]
  },
  {
   "cell_type": "code",
   "execution_count": 2,
   "metadata": {},
   "outputs": [],
   "source": [
    "\n",
    "(X_train, y_train), (X_test, y_test) = tf.keras.datasets.mnist.load_data()\n",
    "\n",
    "X_train = X_train/255\n",
    "X_test = X_test/255\n",
    "\n",
    "y_train = tf.one_hot(y_train, 10)\n",
    "y_test = tf.one_hot(y_test, 10)\n",
    "\n",
    "X_train = np.reshape(X_train, (-1, 28, 28, 1))\n",
    "X_test = np.reshape(X_test, (-1, 28, 28, 1))"
   ]
  },
  {
   "cell_type": "code",
   "execution_count": 3,
   "metadata": {},
   "outputs": [],
   "source": [
    "class ResidualBlock(tf.keras.layers.Layer):\n",
    "    def __init__(self, units):\n",
    "        super().__init__()\n",
    "        self.conv1 = tf.keras.layers.Conv2D(filters=units, kernel_size=(3, 3),  padding=\"same\", activation=\"relu\")\n",
    "        self.conv2 = tf.keras.layers.Conv2D(filters=units, kernel_size=(3, 3),  padding=\"same\", activation=\"relu\")\n",
    "        self.conv3 = tf.keras.layers.Conv2D(filters=units, kernel_size=(3, 3),  padding=\"same\", activation=\"relu\")\n",
    "    \n",
    "    def call(self, inputs):\n",
    "        x = self.conv1(inputs)\n",
    "        x = self.conv2(x)\n",
    "        x = self.conv3(x)\n",
    "        output = inputs + x\n",
    "        return output\n"
   ]
  },
  {
   "cell_type": "code",
   "execution_count": 4,
   "metadata": {},
   "outputs": [],
   "source": [
    "class ResNet(tf.keras.models.Model):\n",
    "    def __init__(self):\n",
    "        super().__init__()\n",
    "        self.residual_block1 = ResidualBlock(20)\n",
    "        self.max_pool1 = tf.keras.layers.MaxPooling2D(pool_size=(2, 2), padding=\"valid\")\n",
    "        self.residual_block2 = ResidualBlock(20)\n",
    "        self.max_pool2 = tf.keras.layers.MaxPooling2D(pool_size=(2, 2), padding=\"valid\")\n",
    "        self.residual_block3 = ResidualBlock(20)\n",
    "        self.max_pool3 = tf.keras.layers.MaxPooling2D(pool_size=(2, 2), padding=\"valid\")\n",
    "        self.gap = tf.keras.layers.GlobalAveragePooling2D()\n",
    "        self.dense = tf.keras.layers.Dense(units=10, activation=\"softmax\")\n",
    "\n",
    "    def call(self, inputs):\n",
    "        x = self.residual_block1(inputs)\n",
    "        x = self.max_pool1(x)\n",
    "        x = self.residual_block2(x)\n",
    "        x = self.max_pool2(x)\n",
    "        x = self.residual_block3(x)\n",
    "        x = self.max_pool3(x)\n",
    "        x = self.gap(x)\n",
    "        output = self.dense(x)\n",
    "        return output\n"
   ]
  },
  {
   "cell_type": "code",
   "execution_count": 5,
   "metadata": {},
   "outputs": [],
   "source": [
    "\n",
    "resnet = ResNet()\n",
    "\n",
    "dataset_train = tf.data.Dataset.from_tensor_slices((X_train, y_train)).batch(512)\n",
    "\n",
    "optimizer = tf.keras.optimizers.Adam()\n",
    "loss_object = tf.keras.losses.CategoricalCrossentropy()\n",
    "accuracy_object = tf.keras.metrics.CategoricalAccuracy()\n"
   ]
  },
  {
   "cell_type": "code",
   "execution_count": 6,
   "metadata": {},
   "outputs": [
    {
     "name": "stdout",
     "output_type": "stream",
     "text": "WARNING:tensorflow:Layer res_net is casting an input tensor from dtype float64 to the layer's dtype of float32, which is new behavior in TensorFlow 2.  The layer has dtype float32 because it's dtype defaults to floatx.\n\nIf you intended to run this layer in float32, you can safely ignore this warning. If in doubt, this warning is likely only an issue if you are porting a TensorFlow 1.X model to TensorFlow 2.\n\nTo change all layers to have dtype float64 by default, call `tf.keras.backend.set_floatx('float64')`. To change just this layer, pass dtype='float64' to the layer constructor. If you are the author of this layer, you can disable autocasting by passing autocast=False to the base Layer constructor.\n\nEpoch: 1 Loss: 1.4143388 Accuracy: 0.2936581\nEpoch: 2 Loss: 0.30549046 Accuracy: 0.6444586\nEpoch: 3 Loss: 0.19799301 Accuracy: 0.7613505\nEpoch: 4 Loss: 0.15542546 Accuracy: 0.8153295\nEpoch: 5 Loss: 0.13188623 Accuracy: 0.8468857\nEpoch: 6 Loss: 0.11603147 Accuracy: 0.868033\nEpoch: 7 Loss: 0.09723568 Accuracy: 0.8834346\nEpoch: 8 Loss: 0.08626835 Accuracy: 0.8953596\nEpoch: 9 Loss: 0.07657892 Accuracy: 0.9048041\nEpoch: 10 Loss: 0.06878967 Accuracy: 0.91254103\nEpoch: 11 Loss: 0.06180538 Accuracy: 0.9190402\nEpoch: 12 Loss: 0.056176946 Accuracy: 0.9245874\nEpoch: 13 Loss: 0.05196143 Accuracy: 0.92933667\nEpoch: 14 Loss: 0.048525196 Accuracy: 0.9334659\nEpoch: 15 Loss: 0.04566108 Accuracy: 0.9371003\nEpoch: 16 Loss: 0.043591432 Accuracy: 0.94031495\nEpoch: 17 Loss: 0.041949116 Accuracy: 0.9431742\nEpoch: 18 Loss: 0.040473398 Accuracy: 0.94573474\nEpoch: 19 Loss: 0.039576087 Accuracy: 0.9480273\nEpoch: 20 Loss: 0.039173983 Accuracy: 0.9500778\nEpoch: 21 Loss: 0.038163573 Accuracy: 0.95191777\nEpoch: 22 Loss: 0.035283655 Accuracy: 0.95359886\nEpoch: 23 Loss: 0.032717485 Accuracy: 0.9551873\nEpoch: 24 Loss: 0.03068445 Accuracy: 0.95667666\nEpoch: 25 Loss: 0.029328331 Accuracy: 0.95807004\n"
    }
   ],
   "source": [
    "\n",
    "for i in range(25):\n",
    "    losses = []\n",
    "    accuracies = []\n",
    "    for X, y in dataset_train:\n",
    "        with tf.GradientTape() as tape:\n",
    "            out = resnet(X)\n",
    "            loss = loss_object(y, out)\n",
    "        losses.append(loss)\n",
    "        accuracies.append(accuracy_object(y, out))\n",
    "        gradients = tape.gradient(loss, resnet.trainable_variables)\n",
    "        xyz = optimizer.apply_gradients(zip(gradients, resnet.trainable_variables))\n",
    "    mean_loss = np.mean(losses)\n",
    "    mean_accuracy = np.mean(accuracies)\n",
    "    print(\"Epoch: \" + str(i+1) + \" Loss: \" + str(mean_loss) + \" Accuracy: \" + str(mean_accuracy))\n",
    "\n",
    "\n"
   ]
  },
  {
   "cell_type": "code",
   "execution_count": 7,
   "metadata": {},
   "outputs": [
    {
     "name": "stdout",
     "output_type": "stream",
     "text": "0.9589093\n"
    }
   ],
   "source": [
    "y_pred = resnet.predict(X_test)\n",
    "accuracy = accuracy_object(y_test, y_pred)\n",
    "print(accuracy.numpy())\n"
   ]
  },
  {
   "cell_type": "code",
   "execution_count": null,
   "metadata": {},
   "outputs": [],
   "source": []
  }
 ]
}